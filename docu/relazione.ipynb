{
 "cells": [
  {
   "cell_type": "markdown",
   "metadata": {},
   "source": [
    "# **Documentazione del progetto**"
   ]
  },
  {
   "cell_type": "markdown",
   "metadata": {},
   "source": [
    "## **Tema**\n",
    "Il progetto consiste nella realizzazione di un sistema informativo per un consorzio di biblioteche universitarie."
   ]
  },
  {
   "cell_type": "markdown",
   "metadata": {},
   "source": [
    "## **Analisi dei requisiti**\n",
    "1. Ogni **biblioteca** del consorzio è identificata in modo univoco da un *codice*, ha sede presso una *città* e ha un *orario di apertura* e *chiusura giornaliero*, che _può variare a seconda dei giorni della settimana_. \n",
    "\n",
    "2. Il **consorzio** gestisce un certo numero di **libri** universitari, dei quali bisogna mantenere le informazioni sul *titolo*, *autori* \n",
    "  (che possono essere più di uno), *casa editrice* e *ISBN* (che identifica il libro).      \n",
    "\n",
    "3. Ogni libro appartiene ad _una o più_ **categorie**, per ognuna delle quali si memorizza il *nome* \n",
    "  e una breve *descrizione*. Un libro può aver avuto *più edizioni*. \n",
    "\n",
    "4. ? Ogni **edizione** è identificata da un *codice unico nell’ambito delle edizioni di uno stesso libro* \n",
    "  e per ogni edizione si vuole mantenere il *numero di pagine* e il *costo*.  \n",
    "  ? Di ogni edizione di un libro possono esistere _più copie_, ognuna della quali è identificata da un *numero, unico nell’ambito delle copie di uno stesso libro*.     \n",
    "\n",
    "5. Per ogni **copia** va indicata la sua collocazione, ovvero la *biblioteca*, il *numero dello scaffale* \n",
    "   e il *numero del posto*.     \n",
    "  _Non è possibile che due copie diverse abbiano la stessa collocazione_.\n",
    "\n",
    "6. Per ogni **autore** si vogliono memorizzare le informazioni relative a *nome*, *cognome*, *luogo*, *data di nascita*\n",
    "   e *nazionalità*.   \n",
    "\n",
    "7. Per la **casa editrice** si vogliono memorizzare informazioni relative a *nome*, *sede* e *partita iva*.\n",
    "\n",
    "8. I libri possono essere organizzati in **collane**, caratterizzate da un *nome* ed una *descrizione*.  \n",
    "   Ogni libro _può appartenere ad al più una collana_.\n",
    "\n",
    "9. Gli **utenti** della biblioteca (che possono essere esclusivamente studenti, ricercatori, \n",
    "  dottorandi o docenti) sono registrati nella base di dati tramite i loro dati anagrafici (*nome*, \n",
    "  *cognome* e *codice fiscale*), *email* e *indirizzo di residenza completo* (via, cap, numero civico).     \n",
    "  Per ciascuno di loro viene inoltre memorizzata la *data nella quale si sono registrati presso la biblioteca*.  \n",
    "  Ad ogni utente viene assegnato un *codice univoco*.     \n",
    "  Quando un utente ottiene un libro in **prestito** la base di dati registra la *data di inizio prestito* e la *copia del libro* che è stata presa.   \n",
    "  Quando (la copia del) il libro viene restituita, la *data di restituzione* viene registrata.    \n",
    "  Per i **dottorandi** bisogna mantenere le informazioni sul *corso di dottorato*, *anno di iscrizione*e *docente relatore*,  \n",
    "  per gli *studenti* bisogna mantenere la *matricola* ed *anno di iscrizione*, per i **docenti** bisogna mantenere il *settore scientifico disciplinare* e *ruolo*.\n",
    "\n",
    "10. I libri vengono acquistati dalla biblioteca mediante i **fornitori**.   \n",
    "    Per ogni fornitore si vuole mantenere l’informazione sulla *Partita Iva*, *capitale sociale* e *indirizzo*.   \n",
    "    _Tutti i libri di una stessa casa editrice sono acquistati dallo stesso fornitore_.\n"
   ]
  },
  {
   "cell_type": "markdown",
   "metadata": {},
   "source": [
    "# 1. **Schema Entità-Relazione**"
   ]
  },
  {
   "cell_type": "markdown",
   "metadata": {},
   "source": [
    "## Progettazione dello schema Entità - Relazione\n",
    "**Progettare uno schema ER comprensivo di:**\n",
    "   - (a) Nomi di entità e associazioni\n",
    "   - (b) Elenco di attributi di entità e associazioni\n",
    "   - (c) Identificatori primari delle entità\n",
    "   - (d) Cardinalità delle associazioni\n",
    "   - (e) Eventuali generalizzazioni\n",
    "   \n",
    "provvisorio:\n",
    "\n",
    "1. **Biblioteca**:\n",
    "    - CodBiblioteca (PK)\n",
    "    - Città\n",
    "    - Orario apertura\n",
    "    - Orario chiusura\n",
    "    - Orari settimanali (questa entità potrebbe essere separata in un’altra tabella per gestire gli orari giornalieri)\n",
    "\n",
    "   *Relazioni*:  \n",
    "    - Biblioteca - copie (1:N)\n",
    "\n",
    "2. **Consorzio**:\n",
    "    - IdConsorzio (PK)\n",
    "    - Nome\n",
    "\n",
    "   *Relazioni*:  \n",
    "    consorzio - biblioteca (1:N);\n",
    "\n",
    "3. **Libro**:\n",
    "    - ISBN (PK)\n",
    "    - titolo\n",
    "    - Casa editrice (FK)\n",
    "    - Autore (FK)\n",
    "    - Categoria (FK)\n",
    "    - collana (FK)\n",
    "\n",
    "   *Relazioni*:   \n",
    "    Libro - autore(M:N);\n",
    "    Libro - categorie(M:N);\n",
    "    Libro - collana(1:N);\n",
    "    Libro - casa editrice(N:1);\n",
    "    Libro - fornitore(N:1);\n",
    "\n",
    "4. **Autore**:\n",
    "    - IdAutore (PK)\n",
    "    - Nome\n",
    "    - Cognome\n",
    "    - Data di nascita\n",
    "    - Nazionalità\n",
    "\n",
    "  *Relazioni*:  \n",
    "    Autore - Libro (FK);\n",
    "\n",
    "5. **Categoria**:\n",
    "    - IdCategoria (PK)\n",
    "    - Nome\n",
    "    - descrizione\n",
    "\n",
    "   *Relazioni*:  \n",
    "    Categoria - Libro (FK);\n",
    "\n",
    "6. **Edizione**:\n",
    "    - IdEdizone (FK)\n",
    "    - numero di pagine\n",
    "    - costo\n",
    "    - ISBN (FK)\n",
    "    PK = ISBN + IdEdizione\n",
    "\n",
    "7. **Copia**:\n",
    "    - Numero copia (FK)\n",
    "    - libro (FK)\n",
    "    - IdBiblioteca (FK)\n",
    "    - IdEdizione (FK)\n",
    "    - scaffale\n",
    "    - posto\n",
    "    PK = libro + numero copia \n",
    "   \n",
    "8. **Collana**:\n",
    "    - IdCollana (PK)\n",
    "    - Nome\n",
    "    - descrizione\n",
    "\n",
    "   *Relazioni*:\n",
    "   Collana - libro;\n",
    "\n",
    "9. **Utente**:\n",
    "    - IdUtente (PK)\n",
    "    - Nome\n",
    "    - Cognome\n",
    "    - Codice Fiscale\n",
    "    - email\n",
    "    - indirizzo (via, cap, numero civico) \n",
    "    - Data registrazione \n",
    "    - Tipo utente \n",
    "    - dati aggiuntivi:\n",
    "        - **studente**: matricola, anno di iscirzione\n",
    "        - **dottorando**: corso di dottorato, anno di iscrizione, docente relatore\n",
    "        - **docente**: settore scientifico disciplinare, ruolo\n",
    "\n",
    "   *Relazioni*:\n",
    "    utente - prestito;\n",
    "\n",
    "\n",
    "10. **Prestito**:\n",
    "    - data inizio prestito \n",
    "    - data fine prestito\n",
    "    - copia libro (FK)\n",
    "    - IdUtente (FK)\n",
    "   *Relazioni*:  \n",
    "   utente - copia - prestito;\n",
    "\n",
    "11. **Casa editrice**:\n",
    "    - IdCasaEditrice (PK)\n",
    "    - Nome\n",
    "    - sede\n",
    "    - partita IVA\n",
    "\n",
    "   *Relazioni*:  \n",
    "    Casa editrice - libro;\n",
    "\n",
    "12. **Fornitore**:  \n",
    "    - IdFornitore (PK)\n",
    "    - partita IVA \n",
    "    - capitale sociale\n",
    "    - indirizzo\n",
    "\n",
    "    *Relazioni*: \n",
    "    fornitore - libro\n",
    "    fornitore - biblioteca"
   ]
  },
  {
   "cell_type": "markdown",
   "metadata": {},
   "source": [
    "provvisorio:\n",
    "![Modello_ER](photos/m_er.jpeg)"
   ]
  },
  {
   "cell_type": "markdown",
   "metadata": {},
   "source": [
    "**Produrre lo schema ER derivante dalla eliminazione delle eventuali generalizzazioni.**"
   ]
  },
  {
   "cell_type": "markdown",
   "metadata": {},
   "source": [
    "## 2. **Modello Relazionale**\n",
    "\n",
    "### Traduzione dello schema ER nel modello relazionale\n",
    "Vengono specificati per ciascuna tabella ottenuta:\n",
    "   - Nome della tabella\n",
    "   - Attributi con relativi tipi di dati\n",
    "   - Identificatori primari\n",
    "   - Vincoli di integrità (ad esempio, NOT NULL, UNIQUE, CHECK)\n",
    "   - Vincoli di integrità referenziale (relazioni tra tabelle, FOREIGN KEY)"
   ]
  },
  {
   "cell_type": "markdown",
   "metadata": {
    "vscode": {
     "languageId": "plaintext"
    }
   },
   "source": [
    "provvisorio:\n",
    "\n",
    "**AUTORE** (<u>IdAutore</u>, Nome, Cognome, Nazionalità, LuogoNascita, DataNascita)   \n",
    "**CATEGORIA** (<u>IdCategoria</u>, Nome, Descrizione)  \n",
    "**COLLANA** (<u>Nome</u>, Libro, Descrizione)  \n",
    "**BIBLIOTECA** (<U>IdBiblioteca</u>, Libro, Nome, Città, GiornoSettimana, OraApertura, OraChiusura)    \n",
    "**O_SETTIMANALI** (<U>IdBiblioteca, GiornoSettimana</U>, OraApertura, OraChiusura)   \n",
    "**CASA EDITRICE** (<U>IdEditore</U>, Nome, Sede, PIva, ISBN)  \n",
    "**LIBRO** (<u>ISBN</u>, IdEditore, Titolo)      \n",
    "**EDIZIONE**(<U>IdEizione, LIbro</u>, NumeroPagine, Costo)    \n",
    "**COPIA** (<u>IdCopia, IdEdizione</u>)  \n",
    "**FORNITORE** (<u>PIva</u>, CapitaleSociale, Indirizzo)  \n",
    "**UTENTE** (<u>IdUtente</u>, Nome, Cognome, Tipo, DataRegistrazione, Email, CF, Via, Cap, NCivico)    \n",
    "**STUDENTE** (<u>IdUtente</u> Matricola, AnnoIscrizione)    \n",
    "**DOTTORANDO** (<u>IdUtente</u> CorsoDottorato, DocenteRelatore)    \n",
    "**DOCENTE** (<u>IdUtente</u>, SettoreScientifico, Ruolo)    \n",
    "\n",
    "\n",
    "**SCRIVE** (<u> Autore, Libro </u>)  \n",
    "**RIENTRA** (<u> Categoria, Libro </u>)  \n",
    "**COLLOCAZIONE** (<u> IdCopia , Biblioteca</u>, NumeroScaffale, NumeroPosto)  \n",
    "**PRESTITO** (<u>Utente, Copia </u>, inizio, fine)  \n",
    "**ACQUISTO** (Fornitore, Biblioteca, Editore)  "
   ]
  },
  {
   "cell_type": "markdown",
   "metadata": {},
   "source": [
    "## 3. **Vincoli di integrità**"
   ]
  },
  {
   "cell_type": "markdown",
   "metadata": {},
   "source": [
    "1. **Specificare dettagliatamente TUTTI i vincoli di integrità referenziale** che devono essere inseriti all’interno della base di \n",
    "dati al fine di garantirne la consistenza, prima di effettuare l’inserimento delle tuple. Questo include la definizione di:\n",
    "    - chiavi esterne (FOREIGN KEY)\n",
    "    - le azioni da intraprendere in caso di violazione del vincolo (ad esempio, azioni ON DELETE CASCADE, ON UPDATE RESTRICT).    \n",
    "**NON SI POSSONO DEFINIRE OPERAZIONI DI MANIPOLAZIONE DI DATI SU TABELLE LA CUI STRUTTURA VIENE MODIFICATA SUCCESSIVAMENTE.**  \n",
    "\n",
    "2. **Indicare se devono essere inseriti vincoli aggiuntivi non previsti dal modello.**    \n",
    "Se il modello relazionale richiede l’aggiunta di vincoli non previsti dal modello ER, ad esempio un vincolo di unicità su un attributo, devi specificarli."
   ]
  },
  {
   "cell_type": "markdown",
   "metadata": {},
   "source": [
    "## 4. **Definizione e manipolazione dati**"
   ]
  },
  {
   "cell_type": "markdown",
   "metadata": {},
   "source": [
    "Le operazioni sulla base di dati, oltre a quelle eventualmente ed implicitamente definite nel testo precedente, sono:"
   ]
  },
  {
   "cell_type": "markdown",
   "metadata": {},
   "source": [
    "1. Fornire le istruzioni per la creazione del DB e degli oggetti che lo costituiscono."
   ]
  },
  {
   "cell_type": "code",
   "execution_count": null,
   "metadata": {
    "vscode": {
     "languageId": "sql"
    }
   },
   "outputs": [],
   "source": []
  },
  {
   "cell_type": "markdown",
   "metadata": {},
   "source": [
    "2. Per ogni relazione individuata, fornire le istruzioni di:\n",
    "\n",
    "    - inserimento (almeno 10 tuple per ogni relazione individuata);\n",
    "    - modifica;\n",
    "    - eliminazione di almeno un’istanza."
   ]
  },
  {
   "cell_type": "code",
   "execution_count": null,
   "metadata": {
    "vscode": {
     "languageId": "sql"
    }
   },
   "outputs": [],
   "source": []
  },
  {
   "cell_type": "markdown",
   "metadata": {},
   "source": [
    "3. Eliminare i dati relativi ad un utente per cui è stato memorizzato almeno un prestito, avendo specificato opportune politiche  \n",
    "di rimedio alle violazioni (individuare prima un utente che ha almeno un prestito e poi eliminare la tupla corrispondente)."
   ]
  },
  {
   "cell_type": "code",
   "execution_count": null,
   "metadata": {
    "vscode": {
     "languageId": "sql"
    }
   },
   "outputs": [],
   "source": []
  },
  {
   "cell_type": "markdown",
   "metadata": {},
   "source": [
    "**NOTA IMPORTANTE:**  \n",
    "Le operazioni di manipolazione dei dati devono essere scritte e valutate sulla base di dati il cui schema è definitivo, ovvero sulla base di dati su cui sono già state effettuate le operazioni di definizione dei dati stessi.   \n",
    "**Non si può fare il DUMP dello schema.**"
   ]
  },
  {
   "cell_type": "markdown",
   "metadata": {},
   "source": [
    "## 5. **Operazioni sui dati**\n"
   ]
  },
  {
   "cell_type": "markdown",
   "metadata": {},
   "source": [
    "1. Estrarre le biblioteche in cui il giorno 1 novembre 2024 si è svolto il numero massimo di prestiti."
   ]
  },
  {
   "cell_type": "code",
   "execution_count": null,
   "metadata": {
    "vscode": {
     "languageId": "sql"
    }
   },
   "outputs": [],
   "source": []
  },
  {
   "cell_type": "markdown",
   "metadata": {},
   "source": [
    "2. Estrarre, per ogni biblioteca, l’elenco degli utenti che nell’anno 2023 hanno preso in prestito più di 10 libri."
   ]
  },
  {
   "cell_type": "code",
   "execution_count": null,
   "metadata": {
    "vscode": {
     "languageId": "sql"
    }
   },
   "outputs": [],
   "source": []
  },
  {
   "cell_type": "markdown",
   "metadata": {},
   "source": [
    "3. Estrarre i docenti che hanno preso in prestito solo libri di informatica della casa editrice “Zanichelli”."
   ]
  },
  {
   "cell_type": "code",
   "execution_count": null,
   "metadata": {
    "vscode": {
     "languageId": "sql"
    }
   },
   "outputs": [],
   "source": []
  },
  {
   "cell_type": "markdown",
   "metadata": {},
   "source": [
    "4. Estrarre per ogni libro il numero totale di volte in cui è stato prestato, mantenendo nel risultato con numero associato pari a 0 anche i libri che non sono stati mai dati in prestito."
   ]
  },
  {
   "cell_type": "code",
   "execution_count": null,
   "metadata": {
    "vscode": {
     "languageId": "sql"
    }
   },
   "outputs": [],
   "source": []
  },
  {
   "cell_type": "markdown",
   "metadata": {},
   "source": [
    "5. Estrarre gli utenti per cui c’è più di una biblioteca in cui preso in prestito più di due libri."
   ]
  },
  {
   "cell_type": "code",
   "execution_count": null,
   "metadata": {
    "vscode": {
     "languageId": "sql"
    }
   },
   "outputs": [],
   "source": []
  }
 ],
 "metadata": {
  "kernelspec": {
   "display_name": "Python 3",
   "language": "python",
   "name": "python3"
  },
  "language_info": {
   "codemirror_mode": {
    "name": "ipython",
    "version": 3
   },
   "file_extension": ".py",
   "mimetype": "text/x-python",
   "name": "python",
   "nbconvert_exporter": "python",
   "pygments_lexer": "ipython3",
   "version": "3.12.6"
  }
 },
 "nbformat": 4,
 "nbformat_minor": 4
}
