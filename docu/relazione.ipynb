{
 "cells": [
  {
   "cell_type": "markdown",
   "metadata": {},
   "source": [
    "# **Documentazione del progetto**"
   ]
  },
  {
   "cell_type": "markdown",
   "metadata": {},
   "source": [
    "## **Tema**\n",
    "Il progetto consiste nella realizzazione di un sistema informativo per un consorzio di biblioteche universitarie."
   ]
  },
  {
   "cell_type": "markdown",
   "metadata": {},
   "source": [
    "## **Analisi dei requisiti**\n",
    "1. Ogni **biblioteca** del consorzio è identificata in modo univoco da un *codice*, ha sede presso una *città* e ha un *orario di apertura* e *chiusura giornaliero*, che _può variare a seconda dei giorni della settimana_. \n",
    "\n",
    "2. Il **consorzio** gestisce un certo numero di **libri** universitari, dei quali bisogna mantenere le informazioni sul *titolo*, *autori* \n",
    "  (che possono essere più di uno), *casa editrice* e *ISBN* (che identifica il libro).      \n",
    "\n",
    "3. Ogni libro appartiene ad _una o più_ **categorie**, per ognuna delle quali si memorizza il *nome* \n",
    "  e una breve *descrizione*. Un libro può aver avuto *più edizioni*. \n",
    "\n",
    "4. ? Ogni **edizione** è identificata da un *codice unico nell’ambito delle edizioni di uno stesso libro* \n",
    "  e per ogni edizione si vuole mantenere il *numero di pagine* e il *costo*.  \n",
    "  ? Di ogni edizione di un libro possono esistere _più copie_, ognuna della quali è identificata da un *numero, unico nell’ambito delle copie di uno stesso libro*.     \n",
    "\n",
    "5. Per ogni **copia** va indicata la sua collocazione, ovvero la *biblioteca*, il *numero dello scaffale* \n",
    "   e il *numero del posto*.     \n",
    "  _Non è possibile che due copie diverse abbiano la stessa collocazione_.\n",
    "\n",
    "6. Per ogni **autore** si vogliono memorizzare le informazioni relative a *nome*, *cognome*, *luogo*, *data di nascita*\n",
    "   e *nazionalità*.   \n",
    "\n",
    "7. Per la **casa editrice** si vogliono memorizzare informazioni relative a *nome*, *sede* e *partita iva*.\n",
    "\n",
    "8. I libri possono essere organizzati in **collane**, caratterizzate da un *nome* ed una *descrizione*.  \n",
    "   Ogni libro _può appartenere ad al più una collana_.\n",
    "\n",
    "9. Gli **utenti** della biblioteca (che possono essere esclusivamente studenti, ricercatori, \n",
    "  dottorandi o docenti) sono registrati nella base di dati tramite i loro dati anagrafici (*nome*, \n",
    "  *cognome* e *codice fiscale*), *email* e *indirizzo di residenza completo* (via, cap, numero civico).     \n",
    "  Per ciascuno di loro viene inoltre memorizzata la *data nella quale si sono registrati presso la biblioteca*.  \n",
    "  Ad ogni utente viene assegnato un *codice univoco*.     \n",
    "  Quando un utente ottiene un libro in **prestito** la base di dati registra la *data di inizio prestito* e la *copia del libro* che è stata presa.   \n",
    "  Quando (la copia del) il libro viene restituita, la *data di restituzione* viene registrata.    \n",
    "  Per i **dottorandi** bisogna mantenere le informazioni sul *corso di dottorato*, *anno di iscrizione*e *docente relatore*,  \n",
    "  per gli *studenti* bisogna mantenere la *matricola* ed *anno di iscrizione*, per i **docenti** bisogna mantenere il *settore scientifico disciplinare* e *ruolo*.\n",
    "\n",
    "10. I libri vengono acquistati dalla biblioteca mediante i **fornitori**.   \n",
    "    Per ogni fornitore si vuole mantenere l’informazione sulla *Partita Iva*, *capitale sociale* e *indirizzo*.   \n",
    "    _Tutti i libri di una stessa casa editrice sono acquistati dallo stesso fornitore_.\n"
   ]
  },
  {
   "cell_type": "markdown",
   "metadata": {},
   "source": [
    "# 1. **Schema Entità-Relazione**"
   ]
  },
  {
   "cell_type": "markdown",
   "metadata": {},
   "source": [
    "## Progettazione dello schema Entità - Relazione\n",
    "**Progettare uno schema ER comprensivo di:**\n",
    "   - (a) Nomi di entità e associazioni\n",
    "   - (b) Elenco di attributi di entità e associazioni\n",
    "   - (c) Identificatori primari delle entità\n",
    "   - (d) Cardinalità delle associazioni\n",
    "   - (e) Eventuali generalizzazioni"
   ]
  },
  {
   "cell_type": "markdown",
   "metadata": {},
   "source": [
    "provvisorio:\n",
    "![Modello_ER](m_er.jpeg)"
   ]
  },
  {
   "cell_type": "markdown",
   "metadata": {},
   "source": [
    "**Produrre lo schema ER derivante dalla eliminazione delle eventuali generalizzazioni.**"
   ]
  },
  {
   "cell_type": "markdown",
   "metadata": {},
   "source": [
    "![Modello_ER](m_er2.jpeg)"
   ]
  },
  {
   "cell_type": "markdown",
   "metadata": {},
   "source": [
    "## 2. **Modello Relazionale**\n",
    "\n",
    "### Traduzione dello schema ER nel modello relazionale\n",
    "Vengono specificati per ciascuna tabella ottenuta:\n",
    "   - Nome della tabella\n",
    "   - Attributi con relativi tipi di dati\n",
    "   - Identificatori primari\n",
    "   - Vincoli di integrità (ad esempio, NOT NULL, UNIQUE, CHECK)\n",
    "   - Vincoli di integrità referenziale (relazioni tra tabelle, FOREIGN KEY)"
   ]
  },
  {
   "cell_type": "markdown",
   "metadata": {
    "vscode": {
     "languageId": "plaintext"
    }
   },
   "source": [
    "provvisorio:\n",
    "\n",
    "- **LIBRO** (<u>ISBN</u>, IdEditore, Titolo)      \n",
    "- **EDIZIONE**(<U>IdEizione, Libro</u>, NumeroPagine, Costo)    \n",
    "- **AUTORE** (<u>IdAutore</u>, Nome, Cognome, Nazionalità, LuogoNascita, DataNascita)   \n",
    "- **CATEGORIA** (<u>IdCategoria</u>, Nome, Descrizione)  \n",
    "- **COLLANA** (<u>Nome</u>, Libro, Descrizione)  \n",
    "- **BIBLIOTECA** (<U>IdBiblioteca</u>, Nome, Città)    \n",
    "- **O_SETTIMANALI** (<U>IdBiblioteca, GiornoSettimana</U>, OraApertura, OraChiusura)   \n",
    "- **CASA_EDITRICE** (<U>IdEditore</U>, Nome, Sede, PIva, ISBN)  \n",
    "- **COPIA** (<u>IdCopia, IdEdizione</u>)  \n",
    "- **FORNITORE** (<u>PIva</u>, CapitaleSociale, Indirizzo)  \n",
    "- **UTENTE** (<u>IdUtente</u>, Nome, Cognome, Tipo, DataRegistrazione, Email, CF, Via, Cap, NCivico), Matricola, AnnoIscrizione, CorsoDottorato, DocenteRelatore, SettoreScientifico, Ruolo)     \n",
    "- **SCRIVE** (<u>Autore, Libro </u>)  \n",
    "- **RIENTRA** (<u>Categoria, Libro</u>)  \n",
    "- **COLLOCAZIONE** (<u>IdCopia, Biblioteca, NumeroScaffale, NumeroPosto</u>)  \n",
    "- **PRESTITO** (<u>Utente, Copia</u>, Inizio, Fine)  \n",
    "- **ACQUISTO** (<u>Fornitore, Biblioteca, Editore</u>)  "
   ]
  },
  {
   "cell_type": "markdown",
   "metadata": {},
   "source": [
    "## 3. **Chiavi e vincoli di integrità**"
   ]
  },
  {
   "cell_type": "markdown",
   "metadata": {},
   "source": [
    "1. **Specificare dettagliatamente TUTTI i vincoli di integrità referenziale** che devono essere inseriti all’interno della base di \n",
    "dati al fine di garantirne la consistenza, prima di effettuare l’inserimento delle tuple. Questo include la definizione di:\n",
    "\n",
    "    - chiavi esterne (FOREIGN KEY)\n",
    "    - le azioni da intraprendere in caso di violazione del vincolo (es: azioni ON DELETE CASCADE, ON UPDATE RESTRICT).    \n",
    "\n",
    "2. **Indicare se devono essere inseriti vincoli aggiuntivi non previsti dal modello.**    \n",
    "Se il modello relazionale richiede l’aggiunta di vincoli non previsti dal modello ER, ad esempio un vincolo di unicità su un attributo, devi specificarli.\n",
    "\n",
    "**NON SI POSSONO DEFINIRE OPERAZIONI DI MANIPOLAZIONE DI DATI SU TABELLE LA CUI STRUTTURA VIENE MODIFICATA SUCCESSIVAMENTE.**  "
   ]
  },
  {
   "cell_type": "markdown",
   "metadata": {},
   "source": [
    "\n",
    "1. **LIBRO**\n",
    "- PK: ISBN\n",
    "- FK: \n",
    "    - IdEditore —> **CASA_EDITRICE**(IdEditore)  \n",
    "- Azione:\n",
    "    - ON DELETE RESTRICT (non si può eliminare una casa editrice se esistono libri ad essa associati).\n",
    "    - ON UPDATE CASCADE (aggiornamenti all’ID della casa editrice si propagano ai libri).\n",
    "\n",
    "2. **EDIZIONE**\n",
    "- PK: IdEdizione, Libro\n",
    "- FK: \n",
    "    - Libro —> **LIBRO**(ISBN)\n",
    "- Azione:\n",
    "    - ON DELETE CASCADE (se un libro viene eliminato, anche le sue edizioni vengono eliminate)\n",
    "    - ON UPDATE CASCADE\n",
    "  \n",
    "3. **AUTORE**\n",
    "- PK: IdAutore \n",
    "\n",
    "4. **CATEGORIA** \n",
    "- PK: IdCategoria\n",
    "\n",
    "5. **COLLANA**\n",
    "- PK: Nome\n",
    "- FK:\n",
    "    - Libro —> **LIBRO**(ISBN)\n",
    "- Azione:\n",
    "    - ON DELETE CASCADE: Se un libro viene eliminato, tutte le collane collegate vengono eliminate automaticamente.\n",
    "    - ON UPDATE CASCADE: Se l’ISBN di un libro cambia, viene aggiornato anche nei record di COLLANA.\n",
    "\n",
    "6. **BIBLIOTECA**\n",
    "- PK: IdBiblioteca\n",
    "\n",
    "7. **O_SETTIMANALI**\n",
    "- PK: IdBiblioteca, GiornoSettimana \n",
    "- FK:\n",
    "    - IdBiblioteca —> **BIBLIOTECA**(IdBiblioteca)\n",
    "- Azione:\n",
    "    - ON DELETE CASCADE: Se una biblioteca viene eliminata, vengono eliminati tutti i record settimanali associati.\n",
    "    - ON UPDATE CASCADE.\n",
    "\n",
    "8. **CASA_EDITRICE**\n",
    "- PK: IdEditore\n",
    "\n",
    "\n",
    "9. **COPIA**\n",
    "- PK: IdCopia, IdEdizione\n",
    "- FK: \n",
    "    - IdEdizione —> **EDIZIONE**(IdEdizione)\n",
    "- Azione:\n",
    "    - ON DELETE CASCADE (se un’edizione viene eliminata, anche le copie relative vengono eliminate).\n",
    "    - ON UPDATE CASCADE.\n",
    "\n",
    "10. **FORNITORE**\n",
    "- PK: PIva\n",
    "\n",
    "\n",
    "11. **UTENTE** \n",
    "- PK: IdUtente\n",
    "\n",
    "12.**SCRIVE**\n",
    "- PK: Autore, Libro\n",
    "- FK:\n",
    "    - Autore —> **AUTORE**(IdAutore).\n",
    "    - Libro —> **LIBRO**(ISBN).\n",
    "- Azione:\n",
    "    - ON DELETE CASCADE (se un autore o un libro viene eliminato, la relazione sparisce).\n",
    "    - ON UPDATE CASCADE.\n",
    "\n",
    "13.**RIENTRA**\n",
    "- PK: Categoria, Libro\n",
    "- FK:\n",
    "    - Categoria —> **CATEGORIA**(IdCategoria).\n",
    "\t- Libro —> **LIBRO**(ISBN)\n",
    "- Azione:\n",
    "    - ON DELETE CASCADE.\n",
    "\t- ON UPDATE CASCADE.\n",
    "\n",
    "14.**COLLOCAZIONE**\n",
    "- PK: IdCopia, Biblioteca, NumeroScaffale, NumeroPosto\n",
    "- FK:\n",
    "    - IdCopia —> **COPIA**(IdCopia).\n",
    "\t- Biblioteca —> **BIBLIOTECA**(IdBiblioteca).\n",
    "- Azione:\n",
    "    - ON DELETE CASCADE su IdCopia (se una copia viene eliminata, anche la sua collocazione viene eliminata).\n",
    "    - ON DELETE CASCADE\n",
    "    \t\n",
    "15.**PRESTITO** :\n",
    "- PK: Utente, Copia\n",
    "- FK:\n",
    "    - Utente —> **UTENTE**(IdUtente).\n",
    "    - Copia —> **COPIA**(IdCopia)\n",
    "- Azione:\n",
    "    - ON DELETE RESTRICT (non si possono eliminare utenti o copie se ci sono prestiti attivi).\n",
    "    - ON UPDATE CASCADE.\n",
    "\n",
    "16. **ACQUISTO**:\n",
    "- PK: Fornitore, Biblioteca, Editore\n",
    "- FK:\n",
    "\t- Fornitore —> **FORNITORE**(PIva).\n",
    "\t- Biblioteca —> **BIBLIOTECA**(IdBiblioteca).\n",
    "\t- Editore —> **CASA_EDITRICE**(IdEditore).\n",
    "- Azione:\n",
    "    - ON DELETE RESTRICT (non si possono eliminare fornitori, biblioteche o editori se ci sono acquisti registrati).\n",
    "    - ON UPDATE CASCADE."
   ]
  },
  {
   "cell_type": "markdown",
   "metadata": {},
   "source": [
    "## 4. **Definizione e manipolazione dati**"
   ]
  },
  {
   "cell_type": "markdown",
   "metadata": {},
   "source": [
    "Le operazioni sulla base di dati, oltre a quelle eventualmente ed implicitamente definite nel testo precedente, sono:"
   ]
  },
  {
   "cell_type": "markdown",
   "metadata": {},
   "source": [
    "1. Fornire le istruzioni per la creazione del DB e degli oggetti che lo costituiscono."
   ]
  },
  {
   "cell_type": "code",
   "execution_count": null,
   "metadata": {
    "vscode": {
     "languageId": "sql"
    }
   },
   "outputs": [],
   "source": []
  },
  {
   "cell_type": "markdown",
   "metadata": {},
   "source": [
    "2. Per ogni relazione individuata, fornire le istruzioni di:\n",
    "\n",
    "    - inserimento (almeno 10 tuple per ogni relazione individuata);\n",
    "    - modifica;\n",
    "    - eliminazione di almeno un’istanza."
   ]
  },
  {
   "cell_type": "code",
   "execution_count": null,
   "metadata": {
    "vscode": {
     "languageId": "sql"
    }
   },
   "outputs": [],
   "source": []
  },
  {
   "cell_type": "markdown",
   "metadata": {},
   "source": [
    "3. Eliminare i dati relativi ad un utente per cui è stato memorizzato almeno un prestito, avendo specificato opportune politiche  \n",
    "di rimedio alle violazioni (individuare prima un utente che ha almeno un prestito e poi eliminare la tupla corrispondente)."
   ]
  },
  {
   "cell_type": "code",
   "execution_count": null,
   "metadata": {
    "vscode": {
     "languageId": "sql"
    }
   },
   "outputs": [],
   "source": []
  },
  {
   "cell_type": "markdown",
   "metadata": {},
   "source": [
    "**NOTA IMPORTANTE:**  \n",
    "Le operazioni di manipolazione dei dati devono essere scritte e valutate sulla base di dati il cui schema è definitivo, ovvero sulla base di dati su cui sono già state effettuate le operazioni di definizione dei dati stessi.   \n",
    "**Non si può fare il DUMP dello schema.**"
   ]
  },
  {
   "cell_type": "markdown",
   "metadata": {},
   "source": [
    "## 5. **Operazioni sui dati**\n"
   ]
  },
  {
   "cell_type": "markdown",
   "metadata": {},
   "source": [
    "1. Estrarre le biblioteche in cui il giorno 1 novembre 2024 si è svolto il numero massimo di prestiti."
   ]
  },
  {
   "cell_type": "code",
   "execution_count": null,
   "metadata": {
    "vscode": {
     "languageId": "sql"
    }
   },
   "outputs": [],
   "source": []
  },
  {
   "cell_type": "markdown",
   "metadata": {},
   "source": [
    "2. Estrarre, per ogni biblioteca, l’elenco degli utenti che nell’anno 2023 hanno preso in prestito più di 10 libri."
   ]
  },
  {
   "cell_type": "code",
   "execution_count": null,
   "metadata": {
    "vscode": {
     "languageId": "sql"
    }
   },
   "outputs": [],
   "source": []
  },
  {
   "cell_type": "markdown",
   "metadata": {},
   "source": [
    "3. Estrarre i docenti che hanno preso in prestito solo libri di informatica della casa editrice “Zanichelli”."
   ]
  },
  {
   "cell_type": "code",
   "execution_count": null,
   "metadata": {
    "vscode": {
     "languageId": "sql"
    }
   },
   "outputs": [],
   "source": []
  },
  {
   "cell_type": "markdown",
   "metadata": {},
   "source": [
    "4. Estrarre per ogni libro il numero totale di volte in cui è stato prestato, mantenendo nel risultato con numero associato pari a 0 anche i libri che non sono stati mai dati in prestito."
   ]
  },
  {
   "cell_type": "code",
   "execution_count": null,
   "metadata": {
    "vscode": {
     "languageId": "sql"
    }
   },
   "outputs": [],
   "source": []
  },
  {
   "cell_type": "code",
   "execution_count": null,
   "metadata": {
    "vscode": {
     "languageId": "sql"
    }
   },
   "outputs": [],
   "source": []
  },
  {
   "cell_type": "code",
   "execution_count": null,
   "metadata": {
    "vscode": {
     "languageId": "sql"
    }
   },
   "outputs": [],
   "source": []
  }
 ],
 "metadata": {
  "kernelspec": {
   "display_name": "Python 3",
   "language": "python",
   "name": "python3"
  },
  "language_info": {
   "codemirror_mode": {
    "name": "ipython",
    "version": 3
   },
   "file_extension": ".py",
   "mimetype": "text/x-python",
   "name": "python",
   "nbconvert_exporter": "python",
   "pygments_lexer": "ipython3",
   "version": "3.12.6"
  }
 },
 "nbformat": 4,
 "nbformat_minor": 4
}
