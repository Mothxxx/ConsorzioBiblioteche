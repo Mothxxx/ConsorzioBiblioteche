{
 "cells": [
  {
   "cell_type": "markdown",
   "metadata": {},
   "source": [
    "# Documentazione del progetto"
   ]
  },
  {
   "cell_type": "markdown",
   "metadata": {
    "vscode": {
     "languageId": "plaintext"
    }
   },
   "source": [
    "## Modello relazionale\n",
    "\n",
    "AUTORE( <u> IdAutore </u>, Nome, Cognome, Nazionalità, LuogoNascita, DataNascita ) \n",
    "\n",
    "CATEGORIA( <u> IdCategoria </u>, Nome, Descrizione )  \n",
    "\n",
    "COLLANA( <u> Nome </u>, Libro, Descrizione )  \n",
    "\n",
    "BIBLIOTECA( <U> IdBiblioteca </u>, Libro, Nome, Città, GiornoSettimana, OraApertura, OraChiusura )    \n",
    "\n",
    "O_SETTIMANALI( <U> IdBiblioteca, GiornoSettimana </U>, OraApertura, OraChiusura )  \n",
    "\n",
    "CASA EDITRICE( <U> IdEditore </U>, Nome, Sede, PIva, ISBN )  \n",
    "\n",
    "LIBRO(<u> ISBN </u>, IdEditore, Titolo )      \n",
    "\n",
    "EDIZIONE(<U> IdEizione, LIbro </u>, NumeroPagine, Costo )  \n",
    "\n",
    "COPIA(<u> IdCopia, IdEdizione </u>)\n",
    "\n",
    "FORNITORE(<u> PIva </u>, CapitaleSociale, Indirizzo)\n",
    "\n",
    "UTENTE(<u> IdUtente </u>, Nome, Cognome, Tipo, DataRegistrazione, Email, CF, Via, Cap, NCivico)  \n",
    "\n",
    "STUDENTE(<u> IdUtente </u> Matricola, AnnoIscrizione)  \n",
    "\n",
    "DOTTORANDO(<u> IdUtente </u> CorsoDottorato, DocenteRelatore)  \n",
    "\n",
    "DOCENTE(<u> IdUtente </u>, SettoreScientifico, Ruolo)  \n",
    "\n",
    "\n",
    "SCRIVE(<u> Autore, Libro </u>)  \n",
    "\n",
    "RIENTRA(<u> Categoria, Libro </u> )\n",
    "\n",
    "COLLOCAZIONE(<u> IdCopia , Biblioteca</u>, NumeroScaffale, NumeroPosto)\n",
    "\n",
    "PRESTITO(<u> Utente, Copia </u>, inizio, fine)\n",
    "\n",
    "ACQUISTO(Fornitore, Biblioteca, Editore)"
   ]
  },
  {
   "cell_type": "markdown",
   "metadata": {},
   "source": []
  }
 ],
 "metadata": {
  "kernelspec": {
   "display_name": "Python 3 (ipykernel)",
   "language": "python",
   "name": "python3"
  },
  "language_info": {
   "codemirror_mode": {
    "name": "ipython",
    "version": 3
   },
   "file_extension": ".py",
   "mimetype": "text/x-python",
   "name": "python",
   "nbconvert_exporter": "python",
   "pygments_lexer": "ipython3",
   "version": "3.12.6"
  }
 },
 "nbformat": 4,
 "nbformat_minor": 4
}
