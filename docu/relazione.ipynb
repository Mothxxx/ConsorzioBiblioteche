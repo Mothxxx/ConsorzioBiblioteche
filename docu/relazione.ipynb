{
 "cells": [
  {
   "cell_type": "markdown",
   "metadata": {},
   "source": [
    "# **Documentazione del progetto**"
   ]
  },
  {
   "cell_type": "markdown",
   "metadata": {},
   "source": [
    "## 1. **Tema**\n",
    "Il progetto consiste nella realizzazione di un sistema informativo per un consorzio di biblioteche universitarie."
   ]
  },
  {
   "cell_type": "markdown",
   "metadata": {},
   "source": [
    "## 2. **Analisi dei requisiti**\n",
    "1. Ogni **biblioteca** del consorzio è identificata in modo univoco da un *codice*, ha sede presso una *città* e ha un *orario di apertura* e *chiusura giornaliero*, che _può variare a seconda dei giorni della settimana_. \n",
    "\n",
    "2. Il **consorzio** gestisce un certo numero di **libri** universitari, dei quali bisogna mantenere le informazioni sul *titolo*, *autori* \n",
    "  (che possono essere più di uno), *casa editrice* e *ISBN* (che identifica il libro).      \n",
    "\n",
    "3. Ogni libro appartiene ad _una o più_ **categorie**, per ognuna delle quali si memorizza il *nome* \n",
    "  e una breve *descrizione*. Un libro può aver avuto *più edizioni*. \n",
    "\n",
    "4. ? Ogni **edizione** è identificata da un *codice unico nell’ambito delle edizioni di uno stesso libro* \n",
    "  e per ogni edizione si vuole mantenere il *numero di pagine* e il *costo*.  \n",
    "  ? Di ogni edizione di un libro possono esistere _più copie_, ognuna della quali è identificata da un *numero, unico nell’ambito delle copie di uno stesso libro*.     \n",
    "\n",
    "5. Per ogni **copia** va indicata la sua collocazione, ovvero la *biblioteca*, il *numero dello scaffale* \n",
    "   e il *numero del posto*.     \n",
    "  _Non è possibile che due copie diverse abbiano la stessa collocazione_.\n",
    "\n",
    "6. Per ogni **autore** si vogliono memorizzare le informazioni relative a *nome*, *cogno