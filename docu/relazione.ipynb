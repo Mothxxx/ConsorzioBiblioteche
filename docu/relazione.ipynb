{
 "cells": [
  {
   "cell_type": "code",
   "execution_count": null,
   "metadata": {},
   "outputs": [],
   "source": [
    "from "
   ]
  },
  {
   "cell_type": "markdown",
   "metadata": {},
   "source": [
    "# **Documentazione del progetto**"
   ]
  },
  {
   "cell_type": "markdown",
   "metadata": {},
   "source": [
    "## 1. **Tema**\n",
    "Il progetto consiste nella realizzazione di un sistema informativo per un consorzio di biblioteche universitarie."
   ]
  },
  {
   "cell_type": "markdown",
   "metadata": {},
   "source": [
    "## 2. **Analisi dei requisiti**\n",
    "1. Ogni **biblioteca** del consorzio è identificata in modo univoco da un *codice*, ha sede presso una *città* e ha un *orario di apertura* e *chiusura giornaliero*, che _può variare a seconda dei giorni della settimana_. \n",
    "\n",
    "2. Il **consorzio** gestisce un certo numero di **libri** universitari, dei quali bisogna mantenere le informazioni sul *titolo*, *autori* \n",
    "  (che possono essere più di uno), *casa editrice* e *ISBN* (che identifica il libro).      \n",
    "\n",
    "3. Ogni libro appartiene ad _una o più_ **categorie**, per ognuna delle quali si memorizza il *nome* \n",
    "  e una breve *descrizione*. Un libro può aver avuto *più edizioni*. \n",
    "\n",
    "4. ? Ogni **edizione** è identificata da un *codice unico nell’ambito delle edizioni di uno stesso libro* \n",
    "  e per ogni edizione si vuole mantenere il *numero di pagine* e il *costo*.  \n",
    "  ? Di ogni edizione di un libro possono esistere _più copie_, ognuna della quali è identificata da un *numero, unico nell’ambito delle copie di uno stesso libro*.     \n",
    "\n",
    "5. Per ogni **copia** va indicata la sua collocazione, ovvero la *biblioteca*, il *numero dello scaffale* \n",
    "   e il *numero del posto*.     \n",
    "  _Non è possibile che due copie diverse abbiano la stessa collocazione_.\n",
    "\n",
    "6. Per ogni **autore** si vogliono memorizzare le informazioni relative a *nome*, *cognome*, *luogo*, *data di nascita*\n",
    "   e *nazionalità*.   \n",
    "\n",
    "7. Per la **casa editrice** si vogliono memorizzare informazioni relative a *nome*, *sede* e *partita iva*.\n",
    "\n",
    "8. I libri possono essere organizzati in **collane**, caratterizzate da un *nome* ed una *descrizione*.  \n",
    "   Ogni libro _può appartenere ad al più una collana_.\n",
    "\n",
    "9. Gli **utenti** della biblioteca (che possono essere esclusivamente studenti, ricercatori, \n",
    "  dottorandi o docenti) sono registrati nella base di dati tramite i loro dati anagrafici (*nome*, \n",
    "  *cognome* e *codice fiscale*), *email* e *indirizzo di residenza completo* (via, cap, numero civico).     \n",
    "  Per ciascuno di loro viene inoltre memorizzata la *data nella quale si sono registrati presso la biblioteca*.  \n",
    "  Ad ogni utente viene assegnato un *codice univoco*.     \n",
    "  Quando un utente ottiene un libro in **prestito** la base di dati registra la *data di inizio prestito* e la *copia del libro* che è stata presa.   \n",
    "  Quando (la copia del) il libro viene restituita, la *data di restituzione* viene registrata.    \n",
    "  Per i **dottorandi** bisogna mantenere le informazioni sul *corso di dottorato*, *anno di iscrizione*e *docente relatore*,  \n",
    "  per gli *studenti* bisogna mantenere la *matricola* ed *anno di iscrizione*, per i **docenti** bisogna mantenere il *settore scientifico disciplinare* e *ruolo*.\n",
    "\n",
    "10. I libri vengono acquistati dalla biblioteca mediante i **fornitori**.   \n",
    "    Per ogni fornitore si vuole mantenere l’informazione sulla *Partita Iva*, *capitale sociale* e *indirizzo*.   \n",
    "    _Tutti i libri di una stessa casa editrice sono acquistati dallo stesso fornitore_.\n"
   ]
  },
  {
   "cell_type": "markdown",
   "metadata": {},
   "source": [
    "## 3. **Schema Entità-Relazione**\n"
   ]
  },
  {
   "cell_type": "markdown",
   "metadata": {},
   "source": [
    "![Modello_ER](modello_er.jpeg)"
   ]
  },
  {
   "cell_type": "markdown",
   "metadata": {},
   "source": [
    "![schema ER](mer.001.jpeg)"
   ]
  },
  {
   "cell_type": "code",
   "execution_count": null,
   "metadata": {},
   "outputs": [],
   "source": []
  },
  {
   "cell_type": "code",
   "execution_count": null,
   "metadata": {},
   "outputs": [],
   "source": []
  },
  {
   "cell_type": "markdown",
   "metadata": {
    "vscode": {
     "languageId": "plaintext"
    }
   },
   "source": [
    "## 4. **Modello Relazionale**\n",
    "\n",
    "AUTORE( <u> IdAutore </u>, Nome, Cognome, Nazionalità, LuogoNascita, DataNascita ) \n",
    "\n",
    "CATEGORIA( <u> IdCategoria </u>, Nome, Descrizione )  \n",
    "\n",
    "COLLANA( <u> Nome </u>, Libro, Descrizione )  \n",
    "\n",
    "BIBLIOTECA( <U> IdBiblioteca </u>, Libro, Nome, Città, GiornoSettimana, OraApertura, OraChiusura )    \n",
    "\n",
    "O_SETTIMANALI( <U> IdBiblioteca, GiornoSettimana </U>, OraApertura, OraChiusura )  \n",
    "\n",
    "CASA EDITRICE( <U> IdEditore </U>, Nome, Sede, PIva, ISBN )  \n",
    "\n",
    "LIBRO(<u> ISBN </u>, IdEditore, Titolo )      \n",
    "\n",
    "EDIZIONE(<U> IdEizione, LIbro </u>, NumeroPagine, Costo )  \n",
    "\n",
    "COPIA(<u> IdCopia, IdEdizione </u>)\n",
    "\n",
    "FORNITORE(<u> PIva </u>, CapitaleSociale, Indirizzo)\n",
    "\n",
    "UTENTE(<u> IdUtente </u>, Nome, Cognome, Tipo, DataRegistrazione, Email, CF, Via, Cap, NCivico)  \n",
    "\n",
    "STUDENTE(<u> IdUtente </u> Matricola, AnnoIscrizione)  \n",
    "\n",
    "DOTTORANDO(<u> IdUtente </u> CorsoDottorato, DocenteRelatore)  \n",
    "\n",
    "DOCENTE(<u> IdUtente </u>, SettoreScientifico, Ruolo)  \n",
    "\n",
    "\n",
    "SCRIVE(<u> Autore, Libro </u>)  \n",
    "\n",
    "RIENTRA(<u> Categoria, Libro </u> )\n",
    "\n",
    "COLLOCAZIONE(<u> IdCopia , Biblioteca</u>, NumeroScaffale, NumeroPosto)\n",
    "\n",
    "PRESTITO(<u> Utente, Copia </u>, inizio, fine)\n",
    "\n",
    "ACQUISTO(Fornitore, Biblioteca, Editore)"
   ]
  },
  {
   "cell_type": "markdown",
   "metadata": {},
   "source": [
    "## 5. **Vincoli di integrità**"
   ]
  },
  {
   "cell_type": "markdown",
   "metadata": {},
   "source": [
    "## 6. **Risultati delle query**\n"
   ]
  }
 ],
 "metadata": {
  "kernelspec": {
   "display_name": "Python 3",
   "language": "python",
   "name": "python3"
  },
  "language_info": {
   "codemirror_mode": {
    "name": "ipython",
    "version": 3
   },
   "file_extension": ".py",
   "mimetype": "text/x-python",
   "name": "python",
   "nbconvert_exporter": "python",
   "pygments_lexer": "ipython3",
   "version": "3.12.6"
  }
 },
 "nbformat": 4,
 "nbformat_minor": 4
}
